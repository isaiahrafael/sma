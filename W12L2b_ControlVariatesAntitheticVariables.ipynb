{
 "cells": [
  {
   "cell_type": "markdown",
   "id": "026a9aa9-6ef9-4000-842b-ed7b9947b0e1",
   "metadata": {},
   "source": [
    "# Variance Reduction: Control Variates and Antithetic Variables"
   ]
  },
  {
   "cell_type": "code",
   "execution_count": 1,
   "id": "b5912a27-0937-496c-b601-89ec0ba47c3d",
   "metadata": {},
   "outputs": [],
   "source": [
    "import math\n",
    "import numpy as np\n",
    "import scipy.stats as stats \n",
    "import seaborn as sns\n",
    "import matplotlib.pyplot as plt"
   ]
  },
  {
   "cell_type": "markdown",
   "id": "e0b919d1-d1ec-4860-a7b3-cb70163e687a",
   "metadata": {},
   "source": [
    "## Simulation: Inventory"
   ]
  },
  {
   "cell_type": "code",
   "execution_count": 2,
   "id": "c2e89e95-bc2c-495c-a1a2-d1ed538c4bb4",
   "metadata": {},
   "outputs": [],
   "source": [
    "## parameters for inventory system\n",
    "lmbda = 100 # mean demand size\n",
    "c = 2 # sales price\n",
    "h = 0.1 # inventory cost per item\n",
    "K = 10 # fixed ordering cost\n",
    "k = 1 # marginal ordering cost per item\n",
    "p = 0.95 # probability that order arrives\n",
    "m = 30 # number of days\n",
    "\n",
    "# simple generator for Poisson distribution\n",
    "# using inverse transform method\n",
    "def GeneratePoisson(lmbda):\n",
    "    X = 0\n",
    "    sum = math.exp(-lmbda)\n",
    "    prod = math.exp(-lmbda)\n",
    "    U = np.random.uniform()\n",
    "    while U > sum:\n",
    "        X = X + 1\n",
    "        prod = prod * lmbda / X\n",
    "        sum = sum + prod\n",
    "    return X\n",
    "    \n",
    "def SimulateOneRun(s,S):\n",
    "    X = S\n",
    "    profit = 0\n",
    "    total_demand = 0\n",
    "    # compute a realization of average profit\n",
    "    # return both the profit\n",
    "    # and the control variate (demand)\n",
    "    for j in range(m):\n",
    "        demand = GeneratePoisson(lmbda)\n",
    "        total_demand = total_demand + demand\n",
    "        sales = min(X, demand)\n",
    "        Y = X - sales\n",
    "        U = np.random.uniform()\n",
    "        if (Y < s) and (U < p):\n",
    "            profit = profit - (K + k * (S-Y))\n",
    "            X = S\n",
    "        else:\n",
    "            X = Y\n",
    "        profit = profit + c*sales - h*X\n",
    "    ave_profit = profit/m\n",
    "    ave_demand = total_demand/m\n",
    "    return ave_profit, ave_demand"
   ]
  },
  {
   "cell_type": "markdown",
   "id": "00f64c1b",
   "metadata": {},
   "source": [
    "## Run simulation and get estimates (with/without control variate)"
   ]
  },
  {
   "cell_type": "code",
   "execution_count": 36,
   "id": "6670cb68",
   "metadata": {},
   "outputs": [],
   "source": [
    "np.random.seed(2025)\n",
    "\n",
    "# compute average profits using (80,200) policy\n",
    "n_reps = 50\n",
    "s = 80\n",
    "S = 200\n",
    "results = [SimulateOneRun(s,S) for i in range(n_reps)]\n",
    "X = np.array([r[0] for r in results])\n",
    "Y = np.array([r[1] for r in results])\n",
    "\n",
    "# control variate based estimator\n",
    "C_xy = np.cov(X,y=Y,ddof=1)[0,1]\n",
    "var_y = np.var(Y,ddof=1)\n",
    "a = C_xy/var_y\n",
    "cv_est = X - a*(Y - lmbda) # true mean of Y - poisson mean"
   ]
  },
  {
   "cell_type": "code",
   "execution_count": 37,
   "id": "a700982b",
   "metadata": {},
   "outputs": [
    {
     "name": "stdout",
     "output_type": "stream",
     "text": [
      "The estimate from usual procedure is 76.75786666666667\n",
      "The control variate based estimate is 76.78947130462213\n"
     ]
    }
   ],
   "source": [
    "# usual estimator\n",
    "print(\"The estimate from usual procedure is {}\".format(np.mean(X)))\n",
    "# control variate based estimator\n",
    "print(\"The control variate based estimate is {}\".format(np.mean(cv_est)))"
   ]
  },
  {
   "cell_type": "code",
   "execution_count": 38,
   "id": "252bab82",
   "metadata": {},
   "outputs": [
    {
     "name": "stdout",
     "output_type": "stream",
     "text": [
      "Variance of usual estimator is 11.836950560000005\n",
      "Variance of control variate based estimator is 11.108595724204456\n"
     ]
    }
   ],
   "source": [
    "# variance of the usual estimate\n",
    "print(\"Variance of usual estimator is {}\".format(np.var(X)))\n",
    "# variance of the control variate estimate\n",
    "print(\"Variance of control variate based estimator is {}\".format(np.var(cv_est)))"
   ]
  },
  {
   "cell_type": "code",
   "execution_count": 39,
   "id": "701fa8c7",
   "metadata": {},
   "outputs": [
    {
     "name": "stdout",
     "output_type": "stream",
     "text": [
      "CI using usual estimator: (75.77016417958092,77.74556915375243), width 1.9754049741715107\n",
      "CI using control variate based estimator: (75.83263904005634,77.74630356918792), width 1.9136645291315801\n"
     ]
    }
   ],
   "source": [
    "# confidence interval from the usual estimate\n",
    "ci_usual = stats.ttest_1samp(X, popmean=0).confidence_interval(confidence_level=0.95)\n",
    "print(\"CI using usual estimator: ({},{}), width {}\".format(ci_usual.low,ci_usual.high,ci_usual.high-ci_usual.low))\n",
    "# confidence interval from the control variate estimate\n",
    "ci_cv = stats.ttest_1samp(cv_est, popmean=0).confidence_interval(confidence_level=0.95)\n",
    "print(\"CI using control variate based estimator: ({},{}), width {}\".format(ci_cv.low,ci_cv.high,ci_cv.high-ci_cv.low))"
   ]
  },
  {
   "cell_type": "markdown",
   "id": "711db901-db52-4487-a7cb-45397fb2da32",
   "metadata": {},
   "source": [
    "## Run simulation and get estimates (using antithetic variables)"
   ]
  },
  {
   "cell_type": "code",
   "execution_count": 43,
   "id": "f5c6c9c7",
   "metadata": {},
   "outputs": [],
   "source": [
    "# simple generator of antithetic variables\n",
    "# for Poisson distribution\n",
    "# using inverse transform method\n",
    "def GeneratePoissonAV(lmbda):\n",
    "    # First Poisson sample using U1\n",
    "    X1 = 0\n",
    "    sum1 = math.exp(-lmbda)\n",
    "    prod1 = math.exp(-lmbda)\n",
    "    U1 = np.random.uniform()\n",
    "    while U1 > sum1:\n",
    "        X1 += 1\n",
    "        prod1 = prod1 * lmbda / X1\n",
    "        sum1 += prod1\n",
    "\n",
    "    # Antithetic Poisson sample using 1 - U1\n",
    "    X2 = 0\n",
    "    sum2 = math.exp(-lmbda)\n",
    "    prod2 = math.exp(-lmbda)\n",
    "    U2 = 1 - U1\n",
    "    while U2 > sum2:\n",
    "        X2 += 1\n",
    "        prod2 = prod2 * lmbda / X2\n",
    "        sum2 += prod2\n",
    "\n",
    "    return X1, X2\n",
    "\n",
    "\n",
    "# simulate using antithetic variables\n",
    "def SimulateOneAVRun(s,S):\n",
    "    X1 = S\n",
    "    X2 = S\n",
    "    profit1 = 0\n",
    "    profit2 = 0\n",
    "    # compute a pair of profit realizations using antithetic variables\n",
    "    for j in range(m):\n",
    "        demand1, demand2 = GeneratePoissonAV(lmbda)\n",
    "        sales1 = min(X1, demand1)\n",
    "        sales2 = min(X1, demand2)\n",
    "        Y1 = X1 - sales1\n",
    "        Y2 = X2 - sales2\n",
    "        U1 = np.random.uniform()\n",
    "        U2 = 1 - U1\n",
    "        if (Y1 < s) and (U1 < p):\n",
    "            profit1 = profit1 - (K + k * (S-Y1))\n",
    "            X1 = S\n",
    "        else:\n",
    "            X1 = Y1\n",
    "        profit1 = profit1 + c*sales1 - h*X1\n",
    "        if (Y2 < s) and (U2 < p):\n",
    "            profit2 = profit2 - (K + k * (S-Y2))\n",
    "            X2 = S\n",
    "        else:\n",
    "            X2 = Y2\n",
    "        profit2 = profit2 + c*sales2 - h*X2\n",
    "    ave_profit = (profit1+profit2)/(2*m)\n",
    "    return ave_profit"
   ]
  },
  {
   "cell_type": "code",
   "execution_count": 44,
   "id": "bc6e7326-bbc2-406d-b43e-a9f7c8282822",
   "metadata": {},
   "outputs": [],
   "source": [
    "np.random.seed(2025)\n",
    "# compute average profits using (80,200) policy\n",
    "# (from before, with and without control variates)\n",
    "n_reps = 50\n",
    "s = 80\n",
    "S = 200\n",
    "results = [SimulateOneRun(s,S) for i in range(n_reps)]\n",
    "X = np.array([r[0] for r in results])\n",
    "Y = np.array([r[1] for r in results])\n",
    "\n",
    "# control variate based estimator\n",
    "C_xy = np.cov(X,y=Y)[0,1]\n",
    "var_y = np.var(Y)\n",
    "a = C_xy/var_y\n",
    "cv_est = X - a*(Y-lmbda)"
   ]
  },
  {
   "cell_type": "code",
   "execution_count": 45,
   "id": "f57cc11c-7eb2-4ae9-bf81-18c44561bd91",
   "metadata": {},
   "outputs": [],
   "source": [
    "# compute average profits using (80,200) policy\n",
    "# (using antithetic variables)\n",
    "n_reps = 50\n",
    "s = 80\n",
    "S = 200\n",
    "results = np.array([SimulateOneAVRun(s,S) for i in range(n_reps)])"
   ]
  },
  {
   "cell_type": "code",
   "execution_count": 47,
   "id": "0c06a3a5-b474-4d9b-bc39-8f5eff42a56f",
   "metadata": {},
   "outputs": [
    {
     "name": "stdout",
     "output_type": "stream",
     "text": [
      "The estimate from usual procedure is 76.75786666666667\n",
      "The control variate based estimate is 76.79011629723347\n",
      "The antithetic variable based estimate is 77.18316666666668\n"
     ]
    }
   ],
   "source": [
    "# usual estimator\n",
    "print(\"The estimate from usual procedure is {}\".format(np.mean(X)))\n",
    "# control variate based estimator\n",
    "print(\"The control variate based estimate is {}\".format(np.mean(cv_est)))\n",
    "# antithetic variable variate based estimator\n",
    "print(\"The antithetic variable based estimate is {}\".format(np.mean(results)))"
   ]
  },
  {
   "cell_type": "code",
   "execution_count": 48,
   "id": "a818d5a2-0f78-481f-b180-2c3ba350f315",
   "metadata": {},
   "outputs": [
    {
     "name": "stdout",
     "output_type": "stream",
     "text": [
      "Variance of usual estimator is 11.836950560000005\n",
      "Variance of control variate based estimator is 11.108899078988197\n",
      "Variance of antithetic variable based estimator is 6.424247694444443\n"
     ]
    }
   ],
   "source": [
    "# variance of the usual estimate\n",
    "print(\"Variance of usual estimator is {}\".format(np.var(X)))\n",
    "# variance of the control variate estimate\n",
    "print(\"Variance of control variate based estimator is {}\".format(np.var(cv_est)))\n",
    "# variance of the antithetic variable estimate\n",
    "print(\"Variance of antithetic variable based estimator is {}\".format(np.var(results)))"
   ]
  },
  {
   "cell_type": "code",
   "execution_count": 36,
   "id": "f7e2870c-44dc-4882-876d-348947b50d5f",
   "metadata": {},
   "outputs": [
    {
     "name": "stdout",
     "output_type": "stream",
     "text": [
      "CI using usual estimator: (75.77016418087848,77.74556915245486), width 1.9754049715763813\n",
      "CI using control variate based estimator: (75.83327096937226,77.74696162509467), width 1.9136906557224052\n",
      "CI using antithetic variable based estimator: (76.45552532058242,77.91080801275093), width 1.4552826921685096\n"
     ]
    }
   ],
   "source": [
    "# confidence interval from the usual estimate\n",
    "ci_usual = stats.ttest_1samp(X, popmean=0).confidence_interval(confidence_level=0.95)\n",
    "print(\"CI using usual estimator: ({},{}), width {}\".format(ci_usual.low,ci_usual.high,ci_usual.high-ci_usual.low))\n",
    "# confidence interval from the control variate estimate\n",
    "ci_cv = stats.ttest_1samp(cv_est, popmean=0).confidence_interval(confidence_level=0.95)\n",
    "print(\"CI using control variate based estimator: ({},{}), width {}\".format(ci_cv.low,ci_cv.high,ci_cv.high-ci_cv.low))\n",
    "# confidence interval from the antithetic variable estimate\n",
    "ci_av = stats.ttest_1samp(results, popmean=0).confidence_interval(confidence_level=0.95)\n",
    "print(\"CI using antithetic variable based estimator: ({},{}), width {}\".format(ci_av.low,ci_av.high,ci_av.high-ci_av.low))"
   ]
  }
 ],
 "metadata": {
  "kernelspec": {
   "display_name": "aetos",
   "language": "python",
   "name": "python3"
  },
  "language_info": {
   "codemirror_mode": {
    "name": "ipython",
    "version": 3
   },
   "file_extension": ".py",
   "mimetype": "text/x-python",
   "name": "python",
   "nbconvert_exporter": "python",
   "pygments_lexer": "ipython3",
   "version": "3.12.8"
  }
 },
 "nbformat": 4,
 "nbformat_minor": 5
}
