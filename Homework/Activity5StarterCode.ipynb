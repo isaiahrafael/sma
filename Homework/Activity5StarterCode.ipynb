{
 "cells": [
  {
   "cell_type": "markdown",
   "id": "312d9ccf-a413-48d4-9454-f0f26024d726",
   "metadata": {},
   "source": [
    "# Activity 5 Solution"
   ]
  },
  {
   "cell_type": "code",
   "execution_count": null,
   "id": "ea3e1ea6-13bf-4556-a810-d22bae15eeb8",
   "metadata": {},
   "outputs": [],
   "source": [
    "import math\n",
    "import numpy as np\n",
    "import seaborn as sns\n",
    "import matplotlib.pyplot as plt"
   ]
  },
  {
   "cell_type": "markdown",
   "id": "253da17a-6f45-4d85-81df-6884d04d5f11",
   "metadata": {},
   "source": [
    "## Task 2"
   ]
  },
  {
   "cell_type": "markdown",
   "id": "4566f342",
   "metadata": {},
   "source": [
    "### Starter Code"
   ]
  },
  {
   "cell_type": "code",
   "execution_count": null,
   "id": "03f207aa-94a3-41eb-8eb3-0ba9f9ab8721",
   "metadata": {},
   "outputs": [],
   "source": [
    "def GenInverseTransform(n_samples):\n",
    "    # Initialize\n",
    "    samples = []\n",
    "    for i in range(n_samples):\n",
    "        # fill in code to generate a sample of X and assign its value to sample_X\n",
    "        samples.append(sample_X)\n",
    "    return samples"
   ]
  },
  {
   "cell_type": "code",
   "execution_count": null,
   "id": "57d12eb8-5888-47a7-9994-87da7a3d5e28",
   "metadata": {},
   "outputs": [],
   "source": [
    "# generate 10000 samples\n",
    "n_samples = 10000\n",
    "samples = GenInverseTransform(n_samples)"
   ]
  },
  {
   "cell_type": "code",
   "execution_count": null,
   "id": "ccd9e5e8-5c1a-4f35-a2c2-0a1a3e25fafe",
   "metadata": {},
   "outputs": [],
   "source": [
    "# plot histogram\n",
    "sns.histplot(samples,stat='density',binwidth=0.01,cumulative=True)\n",
    "# plot CDF\n",
    "x = [i for i in np.arange(0,3,0.01)]\n",
    "def CDF_X(x):\n",
    "    if x <= 0:\n",
    "        u = 0\n",
    "    elif x < 1:\n",
    "        u = x/3\n",
    "    elif x < 2:\n",
    "        u = 1/3\n",
    "    elif x <= 3:\n",
    "        u = x/3\n",
    "    else:\n",
    "        u = 1\n",
    "    return u\n",
    "\n",
    "y = [CDF_X(i) for i in x]\n",
    "plt.plot(x,y,color='red')\n",
    "plt.show()"
   ]
  }
 ],
 "metadata": {
  "kernelspec": {
   "display_name": "Python 3",
   "language": "python",
   "name": "python3"
  },
  "language_info": {
   "codemirror_mode": {
    "name": "ipython",
    "version": 3
   },
   "file_extension": ".py",
   "mimetype": "text/x-python",
   "name": "python",
   "nbconvert_exporter": "python",
   "pygments_lexer": "ipython3",
   "version": "3.11.7"
  }
 },
 "nbformat": 4,
 "nbformat_minor": 5
}
