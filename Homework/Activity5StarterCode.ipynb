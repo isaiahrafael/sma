{
 "cells": [
  {
   "cell_type": "markdown",
   "id": "312d9ccf-a413-48d4-9454-f0f26024d726",
   "metadata": {},
   "source": [
    "# Activity 5 Solution"
   ]
  },
  {
   "cell_type": "code",
   "execution_count": 1,
   "id": "ea3e1ea6-13bf-4556-a810-d22bae15eeb8",
   "metadata": {},
   "outputs": [],
   "source": [
    "import math\n",
    "import numpy as np\n",
    "import seaborn as sns\n",
    "import matplotlib.pyplot as plt"
   ]
  },
  {
   "cell_type": "markdown",
   "id": "253da17a-6f45-4d85-81df-6884d04d5f11",
   "metadata": {},
   "source": [
    "## Task 2"
   ]
  },
  {
   "cell_type": "markdown",
   "id": "4566f342",
   "metadata": {},
   "source": [
    "### Starter Code"
   ]
  },
  {
   "cell_type": "code",
   "execution_count": 11,
   "id": "20201328",
   "metadata": {},
   "outputs": [],
   "source": [
    "import numpy as np\n",
    "\n",
    "def GenInverseTransform(n_samples):\n",
    "    samples = []\n",
    "    for _ in range(n_samples):\n",
    "        u = np.random.uniform(0, 1)\n",
    "        \n",
    "        if 0 <= u < 1/3:\n",
    "            sample_X = 3 * u\n",
    "        elif u < 2/3: \n",
    "            sample_X = 2\n",
    "        elif u < 1:   \n",
    "            sample_X = 3 * u - 1\n",
    "        else:          \n",
    "            sample_X = 3\n",
    "\n",
    "        samples.append(sample_X)\n",
    "\n",
    "    return samples\n"
   ]
  },
  {
   "cell_type": "code",
   "execution_count": 12,
   "id": "57d12eb8-5888-47a7-9994-87da7a3d5e28",
   "metadata": {},
   "outputs": [],
   "source": [
    "# generate 10000 samples\n",
    "n_samples = 10000\n",
    "samples = GenInverseTransform(n_samples)"
   ]
  },
  {
   "cell_type": "code",
   "execution_count": 13,
   "id": "ccd9e5e8-5c1a-4f35-a2c2-0a1a3e25fafe",
   "metadata": {},
   "outputs": [
    {
     "data": {
      "image/png": "[encoded data removed]",
      "text/plain": [
       "<Figure size 640x480 with 1 Axes>"
      ]
     },
     "metadata": {},
     "output_type": "display_data"
    }
   ],
   "source": [
    "# plot histogram\n",
    "sns.histplot(samples,stat='density',binwidth=0.01,cumulative=True)\n",
    "# plot CDF\n",
    "x = [i for i in np.arange(0,3,0.01)]\n",
    "def CDF_X(x):\n",
    "    if x <= 0:\n",
    "        u = 0\n",
    "    elif x < 1:\n",
    "        u = x/3\n",
    "    elif x < 2:\n",
    "        u = 1/3\n",
    "    elif x <= 3:\n",
    "        u = x/3\n",
    "    else:\n",
    "        u = 1\n",
    "    return u\n",
    "\n",
    "y = [CDF_X(i) for i in x]\n",
    "plt.plot(x,y,color='red')\n",
    "plt.show()"
   ]
  }
 ],
 "metadata": {
  "kernelspec": {
   "display_name": "aetos",
   "language": "python",
   "name": "python3"
  },
  "language_info": {
   "codemirror_mode": {
    "name": "ipython",
    "version": 3
   },
   "file_extension": ".py",
   "mimetype": "text/x-python",
   "name": "python",
   "nbconvert_exporter": "python",
   "pygments_lexer": "ipython3",
   "version": "3.12.8"
  }
 },
 "nbformat": 4,
 "nbformat_minor": 5
}
