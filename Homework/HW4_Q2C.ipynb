{
 "cells": [
  {
   "cell_type": "markdown",
   "metadata": {},
   "source": [
    "### Determing number of k runs needed to simulate within MOE 5"
   ]
  },
  {
   "cell_type": "code",
   "execution_count": 1,
   "metadata": {},
   "outputs": [
    {
     "name": "stdout",
     "output_type": "stream",
     "text": [
      "Minimum number of runs needed: 63\n"
     ]
    },
    {
     "data": {
      "text/plain": [
       "63"
      ]
     },
     "execution_count": 1,
     "metadata": {},
     "output_type": "execute_result"
    }
   ],
   "source": [
    "from scipy import stats\n",
    "import math\n",
    "\n",
    "def find_min_runs(s, tol, confidence=0.95):\n",
    "    k = 2\n",
    "    alpha = 1 - confidence\n",
    "    while True:\n",
    "        t_critical = stats.t.ppf(1 - alpha/2, df=k-1)\n",
    "        margin_error = t_critical * (s / math.sqrt(k))\n",
    "        if margin_error <= tol:\n",
    "            break\n",
    "        k += 1\n",
    "    print(f\"Minimum number of runs needed: {k}\")\n",
    "    return k\n",
    "\n",
    "find_min_runs(s=19.84, tol=5)\n"
   ]
  }
 ],
 "metadata": {
  "kernelspec": {
   "display_name": "aetos",
   "language": "python",
   "name": "python3"
  },
  "language_info": {
   "codemirror_mode": {
    "name": "ipython",
    "version": 3
   },
   "file_extension": ".py",
   "mimetype": "text/x-python",
   "name": "python",
   "nbconvert_exporter": "python",
   "pygments_lexer": "ipython3",
   "version": "3.12.8"
  }
 },
 "nbformat": 4,
 "nbformat_minor": 2
}
