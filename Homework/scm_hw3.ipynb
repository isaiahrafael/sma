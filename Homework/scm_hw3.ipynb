{
 "cells": [
  {
   "cell_type": "markdown",
   "metadata": {},
   "source": [
    "# SCM HW3 Q3b Simulation Code\n",
    "This notebook simulates the Expected Marginal Seat Revenue (EMSR-b) model to calculate the expected revenue for a company managing limited capacity across multiple fare classes of airlines sets (1,2,3,4)\n",
    "\n",
    "In Week 9, I learned that EMSR-b is a heuristic used in revenue management to protect capacity for higher-paying customers, by using the normal distribution of demand across fare classes."
   ]
  },
  {
   "cell_type": "markdown",
   "metadata": {},
   "source": [
    "## Thought Process\n",
    "\n",
    "Therefore, I used Python to:\n",
    "\n",
    "1. **Generate random demand** for each class using a normal distribution with the given mean and standard deviation.  \n",
    "\n",
    "2. **Progressively allocate capacity** starting from the lowest fare class (Class 4) up to the highest (Class 1), following EMSR-b logic and using pre-calculated booking limits.  \n",
    "3. **Calculate total revenue** from each simulation run based on how many seats were sold in each class and their respective fares.  \n",
    "4. **Repeat the simulation 100,000 times** to capture demand variability and get a realistic average revenue.  \n",
    "5. **Compute the expected revenue** by averaging the results across all runs.\n",
    "\n",
    "This helped me understand that EMSR-b doesn’t just use average demand — it accounts for uncertainty and makes smarter capacity protection decisions. Running the simulation showed how demand variability affects revenue, and why fixed averages alone can be misleading.\n"
   ]
  },
  {
   "cell_type": "code",
   "execution_count": 1,
   "metadata": {},
   "outputs": [
    {
     "name": "stdout",
     "output_type": "stream",
     "text": [
      "Expected Revenue over 100,000 simulations: $322,961.44\n"
     ]
    }
   ],
   "source": [
    "import numpy as np\n",
    "\n",
    "# Set random seed for reproducibility\n",
    "np.random.seed(42)\n",
    "\n",
    "# Fare prices per class\n",
    "fares = np.array([3650, 2900, 1150, 600])\n",
    "\n",
    "# Mean demand per class\n",
    "mu = np.array([25, 35, 110, 70])\n",
    "\n",
    "# Standard deviation per class\n",
    "sigma = np.array([8, 16, 15, 10])\n",
    "\n",
    "# Booking limits for each class (EMSR-b)\n",
    "booking_limits = np.array([18, 49, 114, 119])\n",
    "\n",
    "# Total seat capacity\n",
    "capacity = 300\n",
    "\n",
    "# Number of simulation runs\n",
    "n_runs = 100_000\n",
    "\n",
    "revenues = []\n",
    "\n",
    "for _ in range(n_runs):\n",
    "    # Step 1: Generate random demand from normal distribution\n",
    "    demand = np.random.normal(mu, sigma)\n",
    "    demand = np.maximum(0, demand)  # clip negative demand to 0\n",
    "\n",
    "    # Step 2: Progressively compute x_4 to x_1\n",
    "    x = np.zeros(4)  # seats sold per class\n",
    "    remaining_capacity = capacity\n",
    "\n",
    "    for i in reversed(range(4)):  # Start from class 4 to class 1\n",
    "        x[i] = min(demand[i], booking_limits[i], remaining_capacity)\n",
    "        remaining_capacity -= x[i]\n",
    "\n",
    "    # Step 3: Compute total revenue for this run\n",
    "    revenue = np.sum(x * fares)\n",
    "    revenues.append(revenue)\n",
    "\n",
    "# Step 5: Compute average (expected) revenue\n",
    "expected_revenue = np.mean(revenues)\n",
    "\n",
    "print(f\"Expected Revenue over {n_runs:,} simulations: ${expected_revenue:,.2f}\")\n"
   ]
  },
  {
   "cell_type": "markdown",
   "metadata": {},
   "source": [
    "### Why the Expected Revenue is $322,961.44\n",
    "\n",
    "The value **$322,961.44** is the result of simulating 100,000 possible demand scenarios using the EMSR-b booking limits.\n",
    "\n",
    "Instead of assuming that demand is fixed and equal to the mean (like in a basic revenue calculation), the simulation treats demand as **random**, following a **normal distribution** with a given mean and standard deviation for each fare class.\n",
    "\n",
    "Each run:\n",
    "- Generates a different random demand outcome.\n",
    "- Allocates available capacity starting from the lowest fare class (Class 4) to the highest (Class 1), respecting both the booking limits and remaining seats.\n",
    "- Computes revenue based on how many seats are sold in each class.\n",
    "\n",
    "By repeating this process 100,000 times and averaging the total revenue from all runs, we get a more **realistic estimate** of expected revenue when demand is uncertain.\n",
    "\n",
    "The result — **$322,961.44** — reflects the fact that, due to variability in demand, we don't always fill all the booking limits, especially for higher-paying classes. It’s lower than the revenue calculated using just average demand (which was $335,700), because in real life, demand doesn’t always reach the mean.\n",
    "\n",
    "This shows how EMSR-b accounts for **risk and uncertainty**, and why simulating is important when evaluating performance.\n"
   ]
  }
 ],
 "metadata": {
  "kernelspec": {
   "display_name": "aetos",
   "language": "python",
   "name": "python3"
  },
  "language_info": {
   "codemirror_mode": {
    "name": "ipython",
    "version": 3
   },
   "file_extension": ".py",
   "mimetype": "text/x-python",
   "name": "python",
   "nbconvert_exporter": "python",
   "pygments_lexer": "ipython3",
   "version": "3.12.8"
  }
 },
 "nbformat": 4,
 "nbformat_minor": 2
}
