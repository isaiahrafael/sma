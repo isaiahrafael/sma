{
 "cells": [
  {
   "cell_type": "markdown",
   "id": "026a9aa9-6ef9-4000-842b-ed7b9947b0e1",
   "metadata": {},
   "source": [
    "# Comparing Alternate System Configurations"
   ]
  },
  {
   "cell_type": "code",
   "execution_count": 1,
   "id": "b5912a27-0937-496c-b601-89ec0ba47c3d",
   "metadata": {},
   "outputs": [],
   "source": [
    "import math\n",
    "import numpy as np\n",
    "import scipy.stats as stats \n",
    "import seaborn as sns\n",
    "import matplotlib.pyplot as plt"
   ]
  },
  {
   "cell_type": "markdown",
   "id": "e0b919d1-d1ec-4860-a7b3-cb70163e687a",
   "metadata": {},
   "source": [
    "## Simulation: Project Completion"
   ]
  },
  {
   "cell_type": "code",
   "execution_count": null,
   "id": "ac52abcd-9bb3-4404-94e1-8a56f05346b0",
   "metadata": {},
   "outputs": [],
   "source": [
    "# Project Evaluation example in class\n",
    "\n",
    "def SimulateOneRun(a,b):\n",
    "    # Generate activity times that are Unif(a,b)\n",
    "    U = np.random.uniform(0,1,13) # Generate 13 samples of Unif(0,1)\n",
    "    Y = a + (b-a)*U # inverse transform method (or just observation)\n",
    "\n",
    "    # Compute activity times incurred in each path\n",
    "    # Each path must be completed for project to be completed\n",
    "    P1 = Y[1] + Y[5] + Y[10]\n",
    "    P2 = Y[0] + Y[2] + Y[5] + Y[10]\n",
    "    P3 = Y[0] + Y[4] + Y[10]\n",
    "    P4 = Y[0] + Y[3] + Y[7] + Y[9] + Y[10]\n",
    "    P5 = Y[0] + Y[3] + Y[7] + Y[8] + Y[12]\n",
    "    P6 = Y[0] + Y[3] + Y[6] + Y[11] + Y[12]\n",
    "\n",
    "    # Return total project time incurred\n",
    "    # - duration of the longest path\n",
    "    T = max(P1,P2,P3,P4,P5,P6)\n",
    "    \n",
    "    return T"
   ]
  },
  {
   "cell_type": "markdown",
   "id": "194c49b2-be07-4660-950c-c862e2b8e354",
   "metadata": {},
   "source": [
    "## Comparing two systems"
   ]
  },
  {
   "cell_type": "code",
   "execution_count": 3,
   "id": "9bc9b64b-4207-4057-8ff6-f4ff710d7cf3",
   "metadata": {},
   "outputs": [],
   "source": [
    "# Output analysis (without CRN)\n",
    "n_samples = 100\n",
    "# Type 1: faster, less reliable workers\n",
    "X1 = np.array([SimulateOneRun(20,70) for i in range (n_samples)])\n",
    "# Type 2: slower, more reliable workers\n",
    "X2 = np.array([SimulateOneRun(32,60) for i in range (n_samples)])"
   ]
  },
  {
   "cell_type": "code",
   "execution_count": 4,
   "id": "7581b764-4d2f-4221-88ae-d72ed57ae7c6",
   "metadata": {},
   "outputs": [
    {
     "data": {
      "text/plain": [
       "5.15388849927187"
      ]
     },
     "execution_count": 4,
     "metadata": {},
     "output_type": "execute_result"
    }
   ],
   "source": [
    "# Take difference and compute mean\n",
    "# positive number suggests Type 2 results in faster project completion on average\n",
    "# negative number suggests Type 1 results in faster project completion on average\n",
    "Z = X1-X2\n",
    "np.mean(Z)"
   ]
  },
  {
   "cell_type": "code",
   "execution_count": 5,
   "id": "00d04913-eb5c-49f5-b14d-7a01899ce6b3",
   "metadata": {},
   "outputs": [
    {
     "ename": "SyntaxError",
     "evalue": "invalid syntax (1350186788.py, line 25)",
     "output_type": "error",
     "traceback": [
      "\u001b[0;36m  Cell \u001b[0;32mIn[5], line 25\u001b[0;36m\u001b[0m\n\u001b[0;31m    if # fill in condition here\u001b[0m\n\u001b[0m       ^\u001b[0m\n\u001b[0;31mSyntaxError\u001b[0m\u001b[0;31m:\u001b[0m invalid syntax\n"
     ]
    }
   ],
   "source": [
    "# define paired-t test\n",
    "def custom_t_test(Z, desired_accuracy):\n",
    "    # desired_accuracy here is the confidence level\n",
    "    # ie we would reject the null hypothesis if we observe a result outside the corresponding confidence interval\n",
    "    # note: significance level = 1 - confidence level, the allowed probability that we reject the nmull hypothesis when it is in fact true\n",
    "    n_samples = len(Z)\n",
    "    # compute t-statistic (how many standard deviations off from the mean 0)\n",
    "    # note: mean 0 because the null hypothesis is that the two populations have the same mean\n",
    "    # the smaller the t-statistic, the more probable that we would see such a result under the null hypothesis\n",
    "    # the larger the t-statistic, the less probable that we would see such a result under the null hypothesis\n",
    "    t_statistic = np.mean(Z)/math.sqrt(np.var(Z,ddof=1)/n_samples)\n",
    "    # compute p-value: the probability of observing a difference of at least what we observed if null hypothesis is true\n",
    "    # a small p-value means unlikely to observe what we observed if null hypothesis true\n",
    "    # so more likely to reject null hypothesis\n",
    "    p_value = 2 * (1 - stats.t.cdf(t_statistic,df=n_samples-1))\n",
    "    # compute confidence interval\n",
    "    sample_mean = np.mean(Z)\n",
    "    se = math.sqrt(np.var(Z,ddof=1)/n_samples)\n",
    "    t_score = stats.t.ppf(1 - (1-desired_accuracy)/2, df=n_samples-1)\n",
    "    CI_lower = sample_mean - t_score * se\n",
    "    CI_upper = sample_mean + t_score * se\n",
    "    print('t-statistic = {}'.format(t_statistic))\n",
    "    print('p-value = {}'.format(p_value))\n",
    "    print('confidence interval = ({},{})'.format(CI_lower,CI_upper))\n",
    "    if # fill in condition here\n",
    "        # this holds if and only if confidence interval does not contain 0\n",
    "        print('At {:.0%} confidence level, there is a statistically significant difference in the two systems.'.format(desired_accuracy))\n",
    "    else:\n",
    "        # this holds if and only if confidence interval contains 0\n",
    "        print('At {:.0%} confidence level, there is no statistically significant difference in the two systems.'.format(desired_accuracy))\n",
    "    "
   ]
  },
  {
   "cell_type": "code",
   "execution_count": null,
   "id": "c2a54088-762f-4be1-a1f6-3f8a8d098791",
   "metadata": {},
   "outputs": [],
   "source": [
    "# run test\n",
    "custom_t_test(Z, 0.95)"
   ]
  },
  {
   "cell_type": "code",
   "execution_count": null,
   "id": "4a4d40f0-a844-4766-825d-7025d4e11685",
   "metadata": {},
   "outputs": [],
   "source": [
    "# scipy also provides built-in functions to run the t-test\n",
    "# verify that we get the same results:\n",
    "print(stats.ttest_rel(X1,X2))\n",
    "print(stats.ttest_1samp(Z, popmean=0).confidence_interval(confidence_level=0.95))"
   ]
  },
  {
   "cell_type": "markdown",
   "id": "fac6737e-00f5-4120-9167-11a9c1bc1e43",
   "metadata": {},
   "source": [
    "## Reference code for common random numbers example"
   ]
  },
  {
   "cell_type": "code",
   "execution_count": null,
   "id": "49fe163d-ba27-4090-b3e5-154438b7382b",
   "metadata": {},
   "outputs": [],
   "source": [
    "# Time taken to park a car example\n",
    "print(stats.ttest_1samp([-20,10,-35,10,-10], popmean=0).confidence_interval(confidence_level=0.9))\n",
    "print(stats.ttest_1samp([-10,-15,0,-15,-5], popmean=0).confidence_interval(confidence_level=0.9))"
   ]
  },
  {
   "cell_type": "markdown",
   "id": "75554cfa-991b-430f-b0f0-fddf8e89b346",
   "metadata": {},
   "source": [
    "## Comparing two systems using common random numbers"
   ]
  },
  {
   "cell_type": "code",
   "execution_count": null,
   "id": "cee63499-5c54-47ff-aa67-2463e5b3e05e",
   "metadata": {},
   "outputs": [],
   "source": [
    "# Output analysis (with CRN)\n",
    "n_samples = 100\n",
    "common_seed = 2024 # use same seed to use the same random draws\n",
    "# fill in here: the code to use the same seed for both systems is missing\n",
    "# Type 1: faster, less reliable workers\n",
    "X1_crn = np.array([SimulateOneRun(20,70) for i in range (n_samples)])\n",
    "# Type 2: slower, more reliable workers\n",
    "X2_crn = np.array([SimulateOneRun(32,60) for i in range (n_samples)])"
   ]
  },
  {
   "cell_type": "code",
   "execution_count": null,
   "id": "3dfcc039-8bdb-4597-bdc0-db4ed3bfa149",
   "metadata": {},
   "outputs": [],
   "source": [
    "# Take difference and compute mean\n",
    "# positive number suggests Type 2 results in faster project completion on average\n",
    "# negative number suggests Type 1 results in faster project completion on average\n",
    "Z_crn = X1_crn-X2_crn\n",
    "np.mean(Z_crn)"
   ]
  },
  {
   "cell_type": "code",
   "execution_count": null,
   "id": "2cb7fd13-6624-40b9-a50f-37f058e0a831",
   "metadata": {},
   "outputs": [],
   "source": [
    "# run test\n",
    "custom_t_test(Z_crn, 0.95)"
   ]
  },
  {
   "cell_type": "code",
   "execution_count": null,
   "id": "60443f5a-e444-467f-a00d-610192fa9eae",
   "metadata": {},
   "outputs": [],
   "source": [
    "# scipy also provides built-in functions to run the t-test\n",
    "# verify that we get the same results:\n",
    "print(stats.ttest_rel(X1_crn,X2_crn))\n",
    "print(stats.ttest_1samp(Z_crn, popmean=0).confidence_interval(confidence_level=0.95))"
   ]
  },
  {
   "cell_type": "markdown",
   "id": "274a6e75-4536-4811-bb72-8f1fb84dbe7b",
   "metadata": {},
   "source": [
    "## Examine correlation"
   ]
  },
  {
   "cell_type": "code",
   "execution_count": null,
   "id": "33426447-0dd0-431f-86d4-d1f0b2fe4a21",
   "metadata": {},
   "outputs": [],
   "source": [
    "# Plot correlation between X1,X2 without CRN\n",
    "sns.scatterplot(x=X1,y=X2)\n",
    "plt.show()"
   ]
  },
  {
   "cell_type": "code",
   "execution_count": null,
   "id": "0b1f2b79-5374-44c1-8e3f-257e6d7471bb",
   "metadata": {},
   "outputs": [],
   "source": [
    "# Plot correlation between X1,X2 with CRN\n",
    "sns.scatterplot(x=X1_crn,y=X2_crn)\n",
    "plt.show()"
   ]
  }
 ],
 "metadata": {
  "kernelspec": {
   "display_name": "Python 3 (ipykernel)",
   "language": "python",
   "name": "python3"
  },
  "language_info": {
   "codemirror_mode": {
    "name": "ipython",
    "version": 3
   },
   "file_extension": ".py",
   "mimetype": "text/x-python",
   "name": "python",
   "nbconvert_exporter": "python",
   "pygments_lexer": "ipython3",
   "version": "3.11.7"
  }
 },
 "nbformat": 4,
 "nbformat_minor": 5
}
