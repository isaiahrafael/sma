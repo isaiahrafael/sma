{
 "cells": [
  {
   "cell_type": "markdown",
   "id": "026a9aa9-6ef9-4000-842b-ed7b9947b0e1",
   "metadata": {},
   "source": [
    "# Comparing Alternate System Configurations"
   ]
  },
  {
   "cell_type": "code",
   "execution_count": 1,
   "id": "b5912a27-0937-496c-b601-89ec0ba47c3d",
   "metadata": {},
   "outputs": [],
   "source": [
    "import math\n",
    "import numpy as np\n",
    "import scipy.stats as stats \n",
    "import seaborn as sns\n",
    "import matplotlib.pyplot as plt"
   ]
  },
  {
   "cell_type": "markdown",
   "id": "e0b919d1-d1ec-4860-a7b3-cb70163e687a",
   "metadata": {},
   "source": [
    "## Simulation: Project Completion"
   ]
  },
  {
   "cell_type": "code",
   "execution_count": 2,
   "id": "ac52abcd-9bb3-4404-94e1-8a56f05346b0",
   "metadata": {},
   "outputs": [],
   "source": [
    "# Project Evaluation example in class\n",
    "\n",
    "def SimulateOneRun(a,b):\n",
    "    # Generate activity times that are Unif(a,b)\n",
    "    U = np.random.uniform(0,1,13) # Generate 13 samples of Unif(0,1)\n",
    "    Y = a + (b-a)*U # inverse transform method (or just observation)\n",
    "\n",
    "    # Compute activity times incurred in each path\n",
    "    # Each path must be completed for project to be completed\n",
    "    P1 = Y[1] + Y[5] + Y[10]\n",
    "    P2 = Y[0] + Y[2] + Y[5] + Y[10]\n",
    "    P3 = Y[0] + Y[4] + Y[10]\n",
    "    P4 = Y[0] + Y[3] + Y[7] + Y[9] + Y[10]\n",
    "    P5 = Y[0] + Y[3] + Y[7] + Y[8] + Y[12]\n",
    "    P6 = Y[0] + Y[3] + Y[6] + Y[11] + Y[12]\n",
    "\n",
    "    # Return total project time incurred\n",
    "    # - duration of the longest path\n",
    "    T = max(P1,P2,P3,P4,P5,P6)\n",
    "    \n",
    "    return T"
   ]
  },
  {
   "cell_type": "markdown",
   "id": "194c49b2-be07-4660-950c-c862e2b8e354",
   "metadata": {},
   "source": [
    "## Comparing two systems"
   ]
  },
  {
   "cell_type": "code",
   "execution_count": 15,
   "id": "9bc9b64b-4207-4057-8ff6-f4ff710d7cf3",
   "metadata": {},
   "outputs": [
    {
     "data": {
      "text/plain": [
       "np.float64(0.362938517760405)"
      ]
     },
     "execution_count": 15,
     "metadata": {},
     "output_type": "execute_result"
    }
   ],
   "source": [
    "# Output analysis (without CRN)\n",
    "n_samples = 100\n",
    "# Type 1: faster, less reliable workers\n",
    "X1 = np.array([SimulateOneRun(20,70) for i in range (n_samples)])\n",
    "# Type 2: slower, more reliable workers\n",
    "X2 = np.array([SimulateOneRun(32,60) for i in range (n_samples)])\n",
    "\n",
    "# Take difference and compute mean\n",
    "# positive number suggests Type 2 results in faster project completion on average\n",
    "# negative number suggests Type 1 results in faster project completion on average\n",
    "Z = X1-X2\n",
    "np.mean(Z)"
   ]
  },
  {
   "cell_type": "code",
   "execution_count": 16,
   "id": "7581b764-4d2f-4221-88ae-d72ed57ae7c6",
   "metadata": {},
   "outputs": [
    {
     "data": {
      "text/plain": [
       "np.float64(0.362938517760405)"
      ]
     },
     "execution_count": 16,
     "metadata": {},
     "output_type": "execute_result"
    }
   ],
   "source": [
    "# Take difference and compute mean\n",
    "# positive number suggests Type 2 results in faster project completion on average\n",
    "# negative number suggests Type 1 results in faster project completion on average\n",
    "Z = X1-X2\n",
    "np.mean(Z)"
   ]
  },
  {
   "cell_type": "code",
   "execution_count": 21,
   "id": "00d04913-eb5c-49f5-b14d-7a01899ce6b3",
   "metadata": {},
   "outputs": [],
   "source": [
    "# define paired-t test\n",
    "def custom_t_test(Z, desired_accuracy):\n",
    "    # desired_accuracy here is the confidence level\n",
    "    # ie we would reject the null hypothesis if we observe a result outside the corresponding confidence interval\n",
    "    # note: significance level = 1 - confidence level, the allowed probability that we reject the nmull hypothesis when it is in fact true\n",
    "    n_samples = len(Z)\n",
    "    # compute t-statistic (how many standard deviations off from the mean 0)\n",
    "    # note: mean 0 because the null hypothesis is that the two populations have the same mean\n",
    "    # the smaller the t-statistic, the more probable that we would see such a result under the null hypothesis\n",
    "    # the larger the t-statistic, the less probable that we would see such a result under the null hypothesis\n",
    "    t_statistic = np.mean(Z)/math.sqrt(np.var(Z,ddof=1)/n_samples)\n",
    "    # compute p-value: the probability of observing a difference of at least what we observed if null hypothesis is true\n",
    "    # a small p-value means unlikely to observe what we observed if null hypothesis true\n",
    "    # so more likely to reject null hypothesis\n",
    "    p_value = 2 * (1 - stats.t.cdf(t_statistic,df=n_samples-1))\n",
    "    # compute confidence interval\n",
    "    sample_mean = np.mean(Z)\n",
    "    se = math.sqrt(np.var(Z,ddof=1)/n_samples)\n",
    "    t_score = stats.t.ppf(1 - (1-desired_accuracy)/2, df=n_samples-1)\n",
    "    CI_lower = sample_mean - t_score * se\n",
    "    CI_upper = sample_mean + t_score * se\n",
    "    print('t-statistic = {}'.format(t_statistic))\n",
    "    print('p-value = {}'.format(p_value))\n",
    "    print('confidence interval = ({},{})'.format(CI_lower,CI_upper))\n",
    "    if CI_lower > 0 or CI_upper < 0:\n",
    "        # this holds if and only if confidence interval does not contain 0\n",
    "        print('At {:.0%} confidence level, there is a statistically significant difference in the two systems.'.format(desired_accuracy))\n",
    "    else:\n",
    "        # this holds if and only if confidence interval contains 0\n",
    "        print('At {:.0%} confidence level, there is no statistically significant difference in the two systems.'.format(desired_accuracy))\n",
    "    "
   ]
  },
  {
   "cell_type": "code",
   "execution_count": 23,
   "id": "c2a54088-762f-4be1-a1f6-3f8a8d098791",
   "metadata": {},
   "outputs": [
    {
     "name": "stdout",
     "output_type": "stream",
     "text": [
      "t-statistic = 0.11455026782456189\n",
      "p-value = 0.9090336032061892\n",
      "confidence interval = (-5.923810286690808,6.6496873222116175)\n",
      "At 95% confidence level, there is no statistically significant difference in the two systems.\n"
     ]
    }
   ],
   "source": [
    "# run test\n",
    "custom_t_test(Z, 0.95)"
   ]
  },
  {
   "cell_type": "code",
   "execution_count": 24,
   "id": "4a4d40f0-a844-4766-825d-7025d4e11685",
   "metadata": {},
   "outputs": [
    {
     "name": "stdout",
     "output_type": "stream",
     "text": [
      "TtestResult(statistic=np.float64(0.11455026782456189), pvalue=np.float64(0.9090336032061892), df=np.int64(99))\n",
      "ConfidenceInterval(low=np.float64(-5.923810286690808), high=np.float64(6.6496873222116175))\n"
     ]
    }
   ],
   "source": [
    "# scipy also provides built-in functions to run the t-test\n",
    "# verify that we get the same results:\n",
    "print(stats.ttest_rel(X1,X2))\n",
    "print(stats.ttest_1samp(Z, popmean=0).confidence_interval(confidence_level=0.95))"
   ]
  },
  {
   "cell_type": "markdown",
   "id": "fac6737e-00f5-4120-9167-11a9c1bc1e43",
   "metadata": {},
   "source": [
    "## Reference code for common random numbers example"
   ]
  },
  {
   "cell_type": "code",
   "execution_count": 25,
   "id": "49fe163d-ba27-4090-b3e5-154438b7382b",
   "metadata": {},
   "outputs": [
    {
     "name": "stdout",
     "output_type": "stream",
     "text": [
      "ConfidenceInterval(low=np.float64(-27.58500940941963), high=np.float64(9.585009409419623))\n",
      "ConfidenceInterval(low=np.float64(-15.215348029125622), high=np.float64(-2.78465197087438))\n"
     ]
    }
   ],
   "source": [
    "# Time taken to park a car example\n",
    "print(stats.ttest_1samp([-20,10,-35,10,-10], popmean=0).confidence_interval(confidence_level=0.9))\n",
    "print(stats.ttest_1samp([-10,-15,0,-15,-5], popmean=0).confidence_interval(confidence_level=0.9))"
   ]
  },
  {
   "cell_type": "markdown",
   "id": "75554cfa-991b-430f-b0f0-fddf8e89b346",
   "metadata": {},
   "source": [
    "## Comparing two systems using common random numbers"
   ]
  },
  {
   "cell_type": "code",
   "execution_count": 32,
   "id": "cee63499-5c54-47ff-aa67-2463e5b3e05e",
   "metadata": {},
   "outputs": [],
   "source": [
    "# Output analysis (with CRN)\n",
    "n_samples = 100\n",
    "common_seed = 2024 # use same seed to use the same random draws\n",
    "# fill in here: the code to use the same seed for both systems is missing\n",
    "np.random.seed(common_seed) # set seed for 1st run\n",
    "# Type 1: faster, less reliable workers\n",
    "X1_crn = np.array([SimulateOneRun(20,70) for i in range (n_samples)])\n",
    "# Type 2: slower, more reliable workers\n",
    "np.random.seed(common_seed) # set seed for 2nd run\n",
    "X2_crn = np.array([SimulateOneRun(32,60) for i in range (n_samples)])"
   ]
  },
  {
   "cell_type": "code",
   "execution_count": 33,
   "id": "3dfcc039-8bdb-4597-bdc0-db4ed3bfa149",
   "metadata": {},
   "outputs": [
    {
     "data": {
      "text/plain": [
       "np.float64(4.244249068447212)"
      ]
     },
     "execution_count": 33,
     "metadata": {},
     "output_type": "execute_result"
    }
   ],
   "source": [
    "# Take difference and compute mean\n",
    "# positive number suggests Type 2 results in faster project completion on average\n",
    "# negative number suggests Type 1 results in faster project completion on average\n",
    "Z_crn = X1_crn-X2_crn\n",
    "np.mean(Z_crn)"
   ]
  },
  {
   "cell_type": "code",
   "execution_count": 34,
   "id": "2cb7fd13-6624-40b9-a50f-37f058e0a831",
   "metadata": {},
   "outputs": [
    {
     "name": "stdout",
     "output_type": "stream",
     "text": [
      "t-statistic = 3.456116022156568\n",
      "p-value = 0.0008087456576135743\n",
      "confidence interval = (1.8075510831802162,6.680947053714208)\n",
      "At 95% confidence level, there is a statistically significant difference in the two systems.\n"
     ]
    }
   ],
   "source": [
    "# run test\n",
    "custom_t_test(Z_crn, 0.95)"
   ]
  },
  {
   "cell_type": "code",
   "execution_count": 29,
   "id": "60443f5a-e444-467f-a00d-610192fa9eae",
   "metadata": {},
   "outputs": [
    {
     "name": "stdout",
     "output_type": "stream",
     "text": [
      "TtestResult(statistic=np.float64(1.1817793413123074), pvalue=np.float64(0.24012418135443608), df=np.int64(99))\n",
      "ConfidenceInterval(low=np.float64(-2.417643262186896), high=np.float64(9.538747322142818))\n"
     ]
    }
   ],
   "source": [
    "# scipy also provides built-in functions to run the t-test\n",
    "# verify that we get the same results:\n",
    "print(stats.ttest_rel(X1_crn,X2_crn))\n",
    "print(stats.ttest_1samp(Z_crn, popmean=0).confidence_interval(confidence_level=0.95))"
   ]
  },
  {
   "cell_type": "markdown",
   "id": "274a6e75-4536-4811-bb72-8f1fb84dbe7b",
   "metadata": {},
   "source": [
    "## Examine correlation"
   ]
  },
  {
   "cell_type": "code",
   "execution_count": 30,
   "id": "33426447-0dd0-431f-86d4-d1f0b2fe4a21",
   "metadata": {},
   "outputs": [
    {
     "data": {
      "image/png": "[encoded data removed]",
      "text/plain": [
       "<Figure size 640x480 with 1 Axes>"
      ]
     },
     "metadata": {},
     "output_type": "display_data"
    }
   ],
   "source": [
    "# Plot correlation between X1,X2 without CRN\n",
    "sns.scatterplot(x=X1,y=X2)\n",
    "plt.show()"
   ]
  },
  {
   "cell_type": "code",
   "execution_count": 31,
   "id": "0b1f2b79-5374-44c1-8e3f-257e6d7471bb",
   "metadata": {},
   "outputs": [
    {
     "data": {
      "image/png": "[encoded data removed]",
      "text/plain": [
       "<Figure size 640x480 with 1 Axes>"
      ]
     },
     "metadata": {},
     "output_type": "display_data"
    }
   ],
   "source": [
    "# Plot correlation between X1,X2 with CRN\n",
    "sns.scatterplot(x=X1_crn,y=X2_crn)\n",
    "plt.show()"
   ]
  },
  {
   "cell_type": "code",
   "execution_count": null,
   "id": "c899c461",
   "metadata": {},
   "outputs": [],
   "source": []
  }
 ],
 "metadata": {
  "kernelspec": {
   "display_name": "aetos",
   "language": "python",
   "name": "python3"
  },
  "language_info": {
   "codemirror_mode": {
    "name": "ipython",
    "version": 3
   },
   "file_extension": ".py",
   "mimetype": "text/x-python",
   "name": "python",
   "nbconvert_exporter": "python",
   "pygments_lexer": "ipython3",
   "version": "3.12.10"
  }
 },
 "nbformat": 4,
 "nbformat_minor": 5
}
