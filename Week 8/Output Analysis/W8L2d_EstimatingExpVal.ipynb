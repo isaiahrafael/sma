{
 "cells": [
  {
   "cell_type": "markdown",
   "id": "0f2595fd-b5bb-4f04-bb94-66e8522f7587",
   "metadata": {},
   "source": [
    "# Terminating Simulations: Estimating Expected Value"
   ]
  },
  {
   "cell_type": "code",
   "execution_count": 1,
   "id": "79d13f2f-ca01-46b7-aea2-b8f0bbd446ef",
   "metadata": {},
   "outputs": [],
   "source": [
    "import math\n",
    "import numpy as np\n",
    "from scipy import stats"
   ]
  },
  {
   "cell_type": "code",
   "execution_count": 2,
   "id": "e706fbac-6668-48e8-afd5-33ea961b96ad",
   "metadata": {},
   "outputs": [],
   "source": [
    "# To obtain n samples of total payout in 1 year\n",
    "# Here total payout S_N = X_1 + ... + X_N\n",
    "# N is assumed to be from Poisson distribution with rate = r\n",
    "# X_i are assumed to be iid exponentially distributed with mean = m\n",
    "\n",
    "# To obtain 1 sample of total payout\n",
    "def SimulateOneRun(r,m):\n",
    "    # To generate one sample of no. of claims in a year\n",
    "    N = np.random.poisson(r,1) # r is the rate of Poisson distribution\n",
    "    \n",
    "    # To obtain N claim samples\n",
    "    X = np.random.exponential(m,N) # m is the mean of exponential distribution\n",
    "    \n",
    "    # To obtain total payout\n",
    "    S = sum(X)\n",
    "  \n",
    "    return S\n"
   ]
  },
  {
   "cell_type": "code",
   "execution_count": 28,
   "id": "4bdff4f6-4e4a-4507-aeb1-bf5258655007",
   "metadata": {},
   "outputs": [],
   "source": [
    "def ExpectedTotalPayout(r,m,tol):\n",
    "    # initialization\n",
    "    n_initial = 100\n",
    "    mean_S = 0\n",
    "    var_S = 0\n",
    "    i = 1\n",
    "    stop = False\n",
    "    # stop if number of iterations is > n_initial and z_score * standard error < tolerance\n",
    "    desired_accuracy = 0.95\n",
    "    # compute required z_score\n",
    "    z_score = stats.norm.ppf(1 - (1-desired_accuracy)/2) # 1 - alpha / 2\n",
    "    while stop == False:\n",
    "        sample_profit = SimulateOneRun(r,m)\n",
    "        mean_prev = mean_S # store previous mean\n",
    "        var_prev = var_S # store previous variance\n",
    "        mean_S = mean_prev + (sample_profit-mean_prev)/i # update mean\n",
    "        if i > 1:\n",
    "            # update variance\n",
    "            var_S = (1 - 1/(i-1)) * var_prev + i * (mean_S - mean_prev)**2\n",
    "        # check for termination\n",
    "        if i > n_initial and math.sqrt(var_S/i) * z_score < tol:\n",
    "            se = math.sqrt(var_S/i)\n",
    "            stop = True\n",
    "        else:\n",
    "            i = i + 1\n",
    "        \n",
    "    \n",
    "    print(\"Estimate for expected total payout: {}\".format(mean_S))\n",
    "    print(\"Standard error of estimate: {}\".format(se))\n",
    "    print(\"Number of simulation runs required: {}\".format(i))\n",
    "    return mean_S, se, i"
   ]
  },
  {
   "cell_type": "code",
   "execution_count": 30,
   "id": "90104ce6",
   "metadata": {},
   "outputs": [
    {
     "name": "stdout",
     "output_type": "stream",
     "text": [
      "Estimate for expected total payout: 14055.42621806778\n",
      "Standard error of estimate: 51.01697850717428\n",
      "Number of simulation runs required: 2295\n"
     ]
    },
    {
     "data": {
      "text/plain": [
       "(np.float64(14055.42621806778), 51.01697850717428, 2295)"
      ]
     },
     "execution_count": 30,
     "metadata": {},
     "output_type": "execute_result"
    }
   ],
   "source": [
    "ExpectedTotalPayout(67,210,100)"
   ]
  },
  {
   "cell_type": "code",
   "execution_count": 1,
   "id": "07fb3020",
   "metadata": {},
   "outputs": [
    {
     "name": "stdout",
     "output_type": "stream",
     "text": [
      "Minimum number of runs needed: 63\n"
     ]
    },
    {
     "data": {
      "text/plain": [
       "63"
      ]
     },
     "execution_count": 1,
     "metadata": {},
     "output_type": "execute_result"
    }
   ],
   "source": [
    "from scipy import stats\n",
    "import math\n",
    "\n",
    "def find_min_runs(s, tol, confidence=0.95):\n",
    "    k = 2\n",
    "    alpha = 1 - confidence\n",
    "    while True:\n",
    "        t_critical = stats.t.ppf(1 - alpha/2, df=k-1)\n",
    "        margin_error = t_critical * (s / math.sqrt(k))\n",
    "        if margin_error <= tol:\n",
    "            break\n",
    "        k += 1\n",
    "    print(f\"Minimum number of runs needed: {k}\")\n",
    "    return k\n",
    "\n",
    "find_min_runs(s=19.84, tol=5)\n"
   ]
  }
 ],
 "metadata": {
  "kernelspec": {
   "display_name": "aetos",
   "language": "python",
   "name": "python3"
  },
  "language_info": {
   "codemirror_mode": {
    "name": "ipython",
    "version": 3
   },
   "file_extension": ".py",
   "mimetype": "text/x-python",
   "name": "python",
   "nbconvert_exporter": "python",
   "pygments_lexer": "ipython3",
   "version": "3.12.8"
  }
 },
 "nbformat": 4,
 "nbformat_minor": 5
}
