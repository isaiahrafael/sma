{
 "cells": [
  {
   "cell_type": "markdown",
   "id": "026a9aa9-6ef9-4000-842b-ed7b9947b0e1",
   "metadata": {},
   "source": [
    "# Simulating Poisson Processes"
   ]
  },
  {
   "cell_type": "code",
   "execution_count": 1,
   "id": "b5912a27-0937-496c-b601-89ec0ba47c3d",
   "metadata": {},
   "outputs": [],
   "source": [
    "import math\n",
    "import numpy as np\n",
    "# import seaborn as sns\n",
    "import matplotlib.pyplot as plt\n",
    "import matplotlib.ticker as ticker"
   ]
  },
  {
   "cell_type": "markdown",
   "id": "3ad28307-9d50-409a-9e53-75c62848c302",
   "metadata": {},
   "source": [
    "## Homogeneous Poisson Process"
   ]
  },
  {
   "cell_type": "code",
   "execution_count": 3,
   "id": "f2cfa536-7664-488c-bb4d-797e1624d638",
   "metadata": {},
   "outputs": [],
   "source": [
    "# To simulate Poisson Process for time T with a given constant rate\n",
    "def GeneratePoissonProcess(T, rate):\n",
    "    EventTimes = [] # initalise empty list of event times\n",
    "\n",
    "    # Generate the first interarrival time\n",
    "    U = np.random.uniform(0,1) # generate 1 sample of U(0,1)\n",
    "    t = -math.log(1-U)/rate\n",
    "\n",
    "    # Loop to generate event times\n",
    "    while t < T:\n",
    "        EventTimes.append(t)\n",
    "        U = np.random.uniform(0,1) # generate 1 sample of U(0,1)\n",
    "        t = t -math.log(1-U)/rate\n",
    "    \n",
    "    return EventTimes"
   ]
  },
  {
   "cell_type": "code",
   "execution_count": 4,
   "id": "b39b6192-b7ce-4f37-8702-1db6c38b7e81",
   "metadata": {},
   "outputs": [],
   "source": [
    "# Generate sample event times\n",
    "T = 10\n",
    "rate = 5\n",
    "EventTimes = GeneratePoissonProcess(T,rate)"
   ]
  },
  {
   "cell_type": "code",
   "execution_count": 5,
   "id": "84092199-15c7-4b38-b54f-502910a41835",
   "metadata": {},
   "outputs": [
    {
     "name": "stdout",
     "output_type": "stream",
     "text": [
      "[0.08646977497585864, 0.3163351074360686, 0.3449045590740195, 0.4763590136065565, 1.0126448301170723, 1.025315577550918, 1.3717085026352116, 1.613094070577415, 1.8068633712328297, 1.8413592062452815, 1.9512217669767187, 2.075411210709733, 2.2832445682547537, 2.9675277484718725, 3.1672566699317404, 3.2226549622711604, 3.6976860022952684, 3.7563620160239646, 3.816895423104084, 4.178147324414131, 4.239988083482853, 4.260651275782578, 4.389335034376397, 4.510532129022701, 4.787071199846099, 4.960973959879662, 5.135349664142356, 5.297876121949011, 5.466811237615621, 5.479482306697129, 5.594711867913991, 5.754300449399521, 6.0704646169434655, 6.3171745338740894, 6.488673917872415, 6.5505407882912685, 6.5555611814996855, 6.631255405296652, 6.8828904541416165, 7.11058202455814, 7.274526952904876, 7.341651842126444, 7.41534139031499, 7.500587335297831, 7.557069921519639, 7.56411776559693, 7.589559658624785, 7.618092929225968, 7.659177868278317, 7.704213217035469, 8.003165881695104, 8.138758071752928, 8.413263706995291, 8.440095221135557, 8.719784185079577, 8.751005306225876, 8.856593785468817, 9.080402724118361, 9.432005427135387, 9.473591825773303, 9.504410328874012]\n",
      "61\n"
     ]
    }
   ],
   "source": [
    "# View output\n",
    "print(EventTimes) # EventTimes is just a list of timings of occurrences\n",
    "print(len(EventTimes)) # this has expected value T*rate"
   ]
  },
  {
   "cell_type": "code",
   "execution_count": 6,
   "id": "d605b441-45c2-4cc7-887a-6d9c3468c1bd",
   "metadata": {},
   "outputs": [
    {
     "data": {
      "image/png": "[encoded data removed]",
      "text/plain": [
       "<Figure size 800x30 with 1 Axes>"
      ]
     },
     "metadata": {},
     "output_type": "display_data"
    }
   ],
   "source": [
    "# Visualise output; most of this code is for aesthetics\n",
    "# In practice you would probably use the event timings within a simulation\n",
    "# and plot the simulation metrics with the event timings likely observable in those plots\n",
    "\n",
    "# Setup a plot such that only the bottom spine is shown\n",
    "def setup(ax):\n",
    "    ax.spines['right'].set_color('none')\n",
    "    ax.spines['left'].set_color('none')\n",
    "    ax.yaxis.set_major_locator(ticker.NullLocator())\n",
    "    ax.spines['top'].set_color('none')\n",
    "    ax.xaxis.set_ticks_position('bottom')\n",
    "    ax.tick_params(which='major', width=1.00)\n",
    "    ax.tick_params(which='major', length=5)\n",
    "    ax.tick_params(which='minor', width=0.75)\n",
    "    ax.tick_params(which='minor', length=2.5)\n",
    "    ax.set_xlim(0, 10)\n",
    "    ax.set_ylim(-0.2, 1)\n",
    "    ax.patch.set_alpha(0.0)\n",
    "\n",
    "plt.figure(figsize=(8,0.3))\n",
    "ax = plt.subplot(111)\n",
    "setup(ax)\n",
    "ax.xaxis.set_major_locator(ticker.MultipleLocator(1))\n",
    "plt.scatter(x=EventTimes,y=[0]*len(EventTimes),marker=\"|\",color=\"red\",s=100)\n",
    "plt.subplots_adjust(left=0.05, right=0.95, bottom=0.05, top=1.05)\n",
    "plt.show()"
   ]
  }
 ],
 "metadata": {
  "kernelspec": {
   "display_name": "aetos",
   "language": "python",
   "name": "python3"
  },
  "language_info": {
   "codemirror_mode": {
    "name": "ipython",
    "version": 3
   },
   "file_extension": ".py",
   "mimetype": "text/x-python",
   "name": "python",
   "nbconvert_exporter": "python",
   "pygments_lexer": "ipython3",
   "version": "3.12.8"
  }
 },
 "nbformat": 4,
 "nbformat_minor": 5
}
