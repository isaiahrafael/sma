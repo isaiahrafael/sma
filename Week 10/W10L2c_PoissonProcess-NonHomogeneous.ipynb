{
 "cells": [
  {
   "cell_type": "markdown",
   "id": "026a9aa9-6ef9-4000-842b-ed7b9947b0e1",
   "metadata": {},
   "source": [
    "# Simulating Poisson Processes"
   ]
  },
  {
   "cell_type": "code",
   "execution_count": 1,
   "id": "b5912a27-0937-496c-b601-89ec0ba47c3d",
   "metadata": {},
   "outputs": [],
   "source": [
    "import math\n",
    "import numpy as np\n",
    "# import seaborn as sns\n",
    "import matplotlib.pyplot as plt\n",
    "import matplotlib.ticker as ticker"
   ]
  },
  {
   "cell_type": "markdown",
   "id": "ddadbf37-3be1-43fa-9efa-2ae26e47ec26",
   "metadata": {},
   "source": [
    "## Non-Homogeneous Poisson Process"
   ]
  },
  {
   "cell_type": "code",
   "execution_count": 13,
   "id": "5c3e1b6b-2c3c-4121-9a8c-8f4c7ba90dcf",
   "metadata": {},
   "outputs": [],
   "source": [
    "# To simulate arrivals according to a\n",
    "# Poisson process with time-varying rate\n",
    "def GenTimeVaryingPP(T, rate_function, max_rate):\n",
    "    # T is total time horizon\n",
    "    # rate_function is a function that returns the rate at a given time\n",
    "    # max_rate is the maximum rate of rate_function over T\n",
    "    \n",
    "    EventTimes = [] # initalise empty list of event times\n",
    "\n",
    "    # Generate the first potential interarrival time\n",
    "    U = np.random.uniform(0,1) # generate 1 sample of U(0,1)\n",
    "    t = -math.log(1-U)/max_rate\n",
    "\n",
    "    # Loop to generate event times\n",
    "    while t < T:\n",
    "        # Decide whether to count the potential arrival (thinning)\n",
    "        U_admit = np.random.uniform(0,1)\n",
    "        if U_admit <= rate_function(t)/max_rate:\n",
    "            EventTimes.append(t)\n",
    "        # Generate the next potential interarrival time\n",
    "        U = np.random.uniform(0,1) # generate 1 sample of U(0,1)\n",
    "        t = t -math.log(1-U)/max_rate\n",
    "    \n",
    "    return EventTimes"
   ]
  },
  {
   "cell_type": "code",
   "execution_count": 14,
   "id": "45b7c6d0-2f47-47df-8584-0870ac556574",
   "metadata": {},
   "outputs": [],
   "source": [
    "# Generate sample event times\n",
    "T = 10\n",
    "def rate_function(t):\n",
    "    if t < T/2:\n",
    "        return 1\n",
    "    else:\n",
    "        return 5\n",
    "max_rate = 5\n",
    "EventTimes = GenTimeVaryingPP(T,rate_function,max_rate)"
   ]
  },
  {
   "cell_type": "code",
   "execution_count": 15,
   "id": "8afb9283-3806-4163-9483-ba195c525855",
   "metadata": {},
   "outputs": [
    {
     "name": "stdout",
     "output_type": "stream",
     "text": [
      "[0.10574622948916271, 1.108284472313283, 1.4123861223878191, 3.4332636350767216, 3.903266733861422, 4.340705077110069, 5.231184454939905, 5.237594007190245, 5.6734195171144455, 5.750201733045192, 5.800884939625077, 6.094874764744043, 6.220857283753432, 6.4707072180297835, 6.536928349379873, 6.5794242440895685, 6.594311138246765, 6.648181655260944, 6.706260003989087, 6.757486943822423, 6.766670739981177, 7.148698674833656, 7.545847393676578, 7.678496194764739, 8.30431200203465, 8.393931435375817, 8.410765448063628, 8.689739272617647, 8.850990769610009, 8.921501768122557, 9.049765559884223, 9.111766354366297, 9.226891369807761, 9.588720367816887, 9.692922265743807, 9.931851731249013]\n",
      "36\n"
     ]
    }
   ],
   "source": [
    "# View output\n",
    "print(EventTimes) # EventTimes is just a list of timings of occurrences\n",
    "print(len(EventTimes))"
   ]
  },
  {
   "cell_type": "code",
   "execution_count": 16,
   "id": "681dabb4-ac86-4903-9701-073a916abdab",
   "metadata": {},
   "outputs": [
    {
     "data": {
      "image/png": "[encoded data removed]",
      "text/plain": [
       "<Figure size 800x30 with 1 Axes>"
      ]
     },
     "metadata": {},
     "output_type": "display_data"
    }
   ],
   "source": [
    "# Visualise output\n",
    "\n",
    "# Setup a plot such that only the bottom spine is shown\n",
    "def setup(ax):\n",
    "    ax.spines['right'].set_color('none')\n",
    "    ax.spines['left'].set_color('none')\n",
    "    ax.yaxis.set_major_locator(ticker.NullLocator())\n",
    "    ax.spines['top'].set_color('none')\n",
    "    ax.xaxis.set_ticks_position('bottom')\n",
    "    ax.tick_params(which='major', width=1.00)\n",
    "    ax.tick_params(which='major', length=5)\n",
    "    ax.tick_params(which='minor', width=0.75)\n",
    "    ax.tick_params(which='minor', length=2.5)\n",
    "    ax.set_xlim(0, 10)\n",
    "    ax.set_ylim(-0.2, 1)\n",
    "    ax.patch.set_alpha(0.0)\n",
    "    \n",
    "plt.figure(figsize=(8,0.3))\n",
    "ax = plt.subplot(111)\n",
    "setup(ax)\n",
    "ax.xaxis.set_major_locator(ticker.MultipleLocator(1))\n",
    "plt.scatter(x=EventTimes,y=[0]*len(EventTimes),marker=\"|\",color=\"red\",s=100)\n",
    "plt.subplots_adjust(left=0.05, right=0.95, bottom=0.05, top=1.05)\n",
    "plt.show()"
   ]
  },
  {
   "cell_type": "code",
   "execution_count": 26,
   "id": "d8c98f6f-7813-47e7-8874-a21df8fdd92b",
   "metadata": {},
   "outputs": [],
   "source": [
    "# Generate sample event times for another example\n",
    "T = 10\n",
    "\n",
    "# Sinusoidal rate function: varies smoothly between 0 and 5\n",
    "def rate_function2(t):\n",
    "    return 1+abs(T-5)\n",
    "max_rate2 = 6\n",
    "EventTimes = GenTimeVaryingPP(T,rate_function2,max_rate2)"
   ]
  },
  {
   "cell_type": "code",
   "execution_count": 27,
   "id": "dd262354-5032-4f0c-81d9-52376e23ad1f",
   "metadata": {},
   "outputs": [
    {
     "name": "stdout",
     "output_type": "stream",
     "text": [
      "[0.021826514983479723, 0.4541661275850572, 0.4836783186924032, 0.866400642941632, 0.8741878316145364, 0.8831288924015254, 1.0030721278855732, 1.1127295541655144, 1.3015917088079016, 1.8413563934245383, 1.9281568319400832, 1.9782058427267306, 2.698727539302723, 3.4563373932142443, 3.5089998689777393, 4.458344413659973, 4.78583324770949, 4.798315717713468, 5.113500219317073, 5.14812565614948, 5.232595039089617, 5.988066204687025, 6.080529139715989, 6.1463285405227355, 6.622802538201849, 6.8114457527695755, 7.040068126896974, 7.0866861969687465, 7.189899598456701, 7.190005936501174, 7.200578167123655, 7.241911593139103, 7.474654694685658, 7.654686304405556, 7.933471592945251, 8.337391824452418, 8.466037563520471, 8.483290674277159, 8.520640925457375, 8.563470695461545, 8.711424957864725, 8.742219056316495, 8.769832191856755, 8.801162328699537, 8.853238190146191, 9.05075355765762, 9.210610362571753, 9.277274538747537, 9.295721789572053, 9.507274598230088, 9.717721162707548, 9.836035183591775, 9.842692555328625, 9.872564745521547, 9.888524180704572, 9.93178191973867]\n",
      "56\n"
     ]
    }
   ],
   "source": [
    "# View output\n",
    "print(EventTimes) # EventTimes is just a list of timings of occurrences\n",
    "print(len(EventTimes))"
   ]
  },
  {
   "cell_type": "code",
   "execution_count": 28,
   "id": "b4667f33-468f-4754-a11a-9ceb70ebe30b",
   "metadata": {},
   "outputs": [
    {
     "data": {
      "image/png": "[encoded data removed]",
      "text/plain": [
       "<Figure size 800x30 with 1 Axes>"
      ]
     },
     "metadata": {},
     "output_type": "display_data"
    }
   ],
   "source": [
    "# Visualise output\n",
    "plt.figure(figsize=(8,0.3))\n",
    "ax = plt.subplot(111)\n",
    "setup(ax)\n",
    "ax.xaxis.set_major_locator(ticker.MultipleLocator(1))\n",
    "plt.scatter(x=EventTimes,y=[0]*len(EventTimes),marker=\"|\",color=\"red\",s=100)\n",
    "plt.subplots_adjust(left=0.05, right=0.95, bottom=0.05, top=1.05)\n",
    "plt.show()"
   ]
  },
  {
   "cell_type": "code",
   "execution_count": null,
   "id": "7b6c5d21",
   "metadata": {},
   "outputs": [],
   "source": []
  }
 ],
 "metadata": {
  "kernelspec": {
   "display_name": "aetos",
   "language": "python",
   "name": "python3"
  },
  "language_info": {
   "codemirror_mode": {
    "name": "ipython",
    "version": 3
   },
   "file_extension": ".py",
   "mimetype": "text/x-python",
   "name": "python",
   "nbconvert_exporter": "python",
   "pygments_lexer": "ipython3",
   "version": "3.12.8"
  }
 },
 "nbformat": 4,
 "nbformat_minor": 5
}
